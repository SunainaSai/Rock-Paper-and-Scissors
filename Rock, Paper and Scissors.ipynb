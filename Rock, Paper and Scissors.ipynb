{
 "cells": [
  {
   "cell_type": "code",
   "execution_count": 1,
   "id": "4a6869b9",
   "metadata": {},
   "outputs": [
    {
     "name": "stdout",
     "output_type": "stream",
     "text": [
      "Let's play Rock, Paper, Scissors\n",
      "Total number of wins = 0\n",
      "Total number of wins losses = 0\n",
      "Total number of ties = 0\n",
      "Enter your input: (r)ock, (p)aper, (s)cissors or (q)uit\n",
      "r\n",
      "Player move is - r\n",
      "Computer move is - s\n",
      "You win\n",
      "Total number of wins = 1\n",
      "Total number of wins losses = 0\n",
      "Total number of ties = 0\n",
      "Enter your input: (r)ock, (p)aper, (s)cissors or (q)uit\n",
      "p\n",
      "Player move is - p\n",
      "Computer move is - r\n",
      "You win\n",
      "Total number of wins = 2\n",
      "Total number of wins losses = 0\n",
      "Total number of ties = 0\n",
      "Enter your input: (r)ock, (p)aper, (s)cissors or (q)uit\n",
      "s\n",
      "Player move is - s\n",
      "Computer move is - p\n",
      "You win\n",
      "Total number of wins = 3\n",
      "Total number of wins losses = 0\n",
      "Total number of ties = 0\n",
      "Enter your input: (r)ock, (p)aper, (s)cissors or (q)uit\n",
      "q\n"
     ]
    },
    {
     "ename": "SystemExit",
     "evalue": "",
     "output_type": "error",
     "traceback": [
      "An exception has occurred, use %tb to see the full traceback.\n",
      "\u001b[1;31mSystemExit\u001b[0m\n"
     ]
    },
    {
     "name": "stderr",
     "output_type": "stream",
     "text": [
      "C:\\Users\\Admin\\anaconda3\\lib\\site-packages\\IPython\\core\\interactiveshell.py:3377: UserWarning: To exit: use 'exit', 'quit', or Ctrl-D.\n",
      "  warn(\"To exit: use 'exit', 'quit', or Ctrl-D.\", stacklevel=1)\n"
     ]
    }
   ],
   "source": [
    "print (\"Let's play Rock, Paper, Scissors\") # To play a game of Rock, Paper and Scissors\n",
    "from random import *\n",
    "import sys\n",
    "wins = 0\n",
    "loss = 0\n",
    "tie = 0\n",
    "while True: # Loop for entering the player move and for quitting the game\n",
    "    print(\"Total number of wins =\", wins)\n",
    "    print(\"Total number of wins losses =\", loss)\n",
    "    print(\"Total number of ties =\", tie)\n",
    "    while True:\n",
    "        print(\"Enter your input: (r)ock, (p)aper, (s)cissors or (q)uit\")\n",
    "        player_move= input()\n",
    "        if player_move == \"q\":\n",
    "            sys.exit()\n",
    "        elif player_move == \"r\" or \"p\" or \"s\":\n",
    "            print(\"Player move is\",\"-\",player_move)\n",
    "            break\n",
    "        print(\"Type r for rock, p for paper and s for scissors. Please input correctly\") \n",
    "        \n",
    "    random_number = randint(1,3) # Loop for generating a computer move.\n",
    "    if random_number == 1:\n",
    "        computer_move =\"r\"\n",
    "    elif random_number == 2:\n",
    "        computer_move =\"p\"\n",
    "    elif random_number == 3:\n",
    "         computer_move =\"s\"\n",
    "    print(\"Computer move is\",\"-\",computer_move)\n",
    "\n",
    "    if player_move == computer_move: # Condition to find out if you win, loose or if it's a tie.\n",
    "        print(\"It's a tie\")\n",
    "        tie+=1\n",
    "    elif player_move == \"r\" and computer_move == \"p\":\n",
    "        print(\"You loose\")\n",
    "        loss+=1\n",
    "    elif player_move == \"r\" and computer_move == \"s\":\n",
    "        print(\"You win\")\n",
    "        wins+=1\n",
    "    elif player_move == \"p\" and computer_move == \"s\":\n",
    "        print(\"You loose\")\n",
    "        loss+=1\n",
    "    elif player_move == \"p\" and computer_move == \"r\":\n",
    "        print(\"You win\")\n",
    "        wins+=1\n",
    "    elif player_move == \"s\" and computer_move == \"r\":\n",
    "        print(\"You loose\")\n",
    "        loss+=1\n",
    "    elif player_move == \"s\" and computer_move == \"p\":\n",
    "        print(\"You win\")\n",
    "        wins+=1"
   ]
  }
 ],
 "metadata": {
  "kernelspec": {
   "display_name": "Python 3 (ipykernel)",
   "language": "python",
   "name": "python3"
  },
  "language_info": {
   "codemirror_mode": {
    "name": "ipython",
    "version": 3
   },
   "file_extension": ".py",
   "mimetype": "text/x-python",
   "name": "python",
   "nbconvert_exporter": "python",
   "pygments_lexer": "ipython3",
   "version": "3.9.12"
  }
 },
 "nbformat": 4,
 "nbformat_minor": 5
}
